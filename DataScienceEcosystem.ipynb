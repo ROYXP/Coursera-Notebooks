{
 "cells": [
  {
   "cell_type": "code",
   "execution_count": null,
   "id": "d53ed66e",
   "metadata": {},
   "outputs": [],
   "source": []
  },
  {
   "cell_type": "markdown",
   "id": "2926e544",
   "metadata": {},
   "source": [
    "# Data Science Tools and Ecosystem"
   ]
  },
  {
   "cell_type": "markdown",
   "id": "bb91e8f0",
   "metadata": {},
   "source": [
    "In this notebook, Data Science Tools and Ecosystem are summarized"
   ]
  },
  {
   "cell_type": "code",
   "execution_count": null,
   "id": "2ad7f207",
   "metadata": {},
   "outputs": [],
   "source": [
    "Some of the popular languages that Data Scientists use are:\n",
    "\n",
    "1.Python\n",
    "2.R\n",
    "3.Ruby\n",
    "4.Scala\n",
    "5.SQL"
   ]
  },
  {
   "cell_type": "markdown",
   "id": "35c1d4df",
   "metadata": {},
   "source": [
    "Some of the commonly used libraries used by Data Scientists include:"
   ]
  },
  {
   "cell_type": "code",
   "execution_count": null,
   "id": "793d347a",
   "metadata": {},
   "outputs": [],
   "source": [
    "pandas\n",
    "matplotlib\n",
    "Scikitlearn\n",
    "Tensorflow\n",
    "NumPy"
   ]
  },
  {
   "cell_type": "markdown",
   "id": "dfb1b080",
   "metadata": {},
   "source": [
    "# Objectives:"
   ]
  },
  {
   "cell_type": "code",
   "execution_count": null,
   "id": "f8884957",
   "metadata": {},
   "outputs": [],
   "source": [
    "List popular languages for Data Science\n",
    "Developer environments in Python\n",
    "Common Data Science libraries"
   ]
  },
  {
   "cell_type": "markdown",
   "id": "6e7d9eaa",
   "metadata": {},
   "source": [
    "Data Science Tools"
   ]
  },
  {
   "cell_type": "markdown",
   "id": "32e4e6a2",
   "metadata": {},
   "source": [
    "Jupyter Notebook\n",
    "Rstudio\n",
    "Github\n",
    "Jupyterlite"
   ]
  },
  {
   "cell_type": "markdown",
   "id": "0df9b349",
   "metadata": {},
   "source": [
    "### Below are a few examples of evaluating arithmetic expressions in Python"
   ]
  },
  {
   "cell_type": "code",
   "execution_count": 2,
   "id": "8d0c5c4d",
   "metadata": {},
   "outputs": [
    {
     "data": {
      "text/plain": [
       "17"
      ]
     },
     "execution_count": 2,
     "metadata": {},
     "output_type": "execute_result"
    }
   ],
   "source": [
    "#This a simple arithmetic expression to mutiply then add integers\n",
    "(3*4)+5"
   ]
  },
  {
   "cell_type": "code",
   "execution_count": 3,
   "id": "81524398",
   "metadata": {},
   "outputs": [
    {
     "data": {
      "text/plain": [
       "3.3333333333333335"
      ]
     },
     "execution_count": 3,
     "metadata": {},
     "output_type": "execute_result"
    }
   ],
   "source": [
    "#This will convert 200 minutes to hours by diving by 60\n",
    "200/60"
   ]
  },
  {
   "cell_type": "markdown",
   "id": "dcae9c20",
   "metadata": {},
   "source": [
    "## Author"
   ]
  },
  {
   "cell_type": "markdown",
   "id": "be1be33a",
   "metadata": {},
   "source": [
    "Abdulrazzaq Anjorin Ayodeji"
   ]
  },
  {
   "cell_type": "code",
   "execution_count": null,
   "id": "f2c8c6ba",
   "metadata": {},
   "outputs": [],
   "source": []
  }
 ],
 "metadata": {
  "kernelspec": {
   "display_name": "Python 3 (ipykernel)",
   "language": "python",
   "name": "python3"
  },
  "language_info": {
   "codemirror_mode": {
    "name": "ipython",
    "version": 3
   },
   "file_extension": ".py",
   "mimetype": "text/x-python",
   "name": "python",
   "nbconvert_exporter": "python",
   "pygments_lexer": "ipython3",
   "version": "3.10.12"
  }
 },
 "nbformat": 4,
 "nbformat_minor": 5
}
